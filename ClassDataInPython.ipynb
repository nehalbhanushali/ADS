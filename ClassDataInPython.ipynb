{
 "cells": [
  {
   "cell_type": "code",
   "execution_count": 41,
   "metadata": {
    "collapsed": false
   },
   "outputs": [
    {
     "name": "stdout",
     "output_type": "stream",
     "text": [
      "Minimum GPA: 3.06\n",
      "Maximum GPA: 4.0\n",
      "Median GPA: 3.5\n",
      "Average GPA: 3.5097058823529426\n"
     ]
    }
   ],
   "source": [
    "import pandas as pd\n",
    "import numpy\n",
    "\n",
    "classData = pd.read_csv('C:\\\\Users\\\\nehal\\\\Desktop\\\\ClassData.csv')\n",
    "GPA = classData[\"GPA\"]\n",
    "\n",
    "\n",
    "maxGPAval, minGPAval, medianGPAval, avgGPAval = numpy.max(GPA), numpy.min(GPA), numpy.median(GPA), numpy.mean(GPA)\n",
    "\n",
    "\n",
    "print('Minimum GPA:', minGPAval)\n",
    "print('Maximum GPA:', maxGPAval)\n",
    "print('Median GPA:', medianGPAval)\n",
    "print('Average GPA:', avgGPAval)\n",
    "\n",
    "\n"
   ]
  },
  {
   "cell_type": "code",
   "execution_count": 28,
   "metadata": {
    "collapsed": false
   },
   "outputs": [
    {
     "name": "stdout",
     "output_type": "stream",
     "text": [
      "Minimum YrsOfExp: 1.0\n",
      "Maximum YrsOfExp: 6.0\n",
      "Median YrsOfExp: 2.5\n",
      "Average YrsOfExp: 2.8117647058823527\n"
     ]
    }
   ],
   "source": [
    "YrsOfExp = classData[\"Years of work experience\"]\n",
    "\n",
    "maxYrsOfExpval, minYrsOfExpval, medianYrsOfExpval, avgYrsOfExpval = numpy.max(YrsOfExp), numpy.min(YrsOfExp), numpy.median(YrsOfExp), numpy.mean(YrsOfExp)\n",
    "\n",
    "\n",
    "print('Minimum YrsOfExp:', minYrsOfExpval)\n",
    "print('Maximum YrsOfExp:', maxYrsOfExpval)\n",
    "print('Median YrsOfExp:', medianYrsOfExpval)\n",
    "print('Average YrsOfExp:', avgYrsOfExpval)"
   ]
  },
  {
   "cell_type": "code",
   "execution_count": 35,
   "metadata": {
    "collapsed": false
   },
   "outputs": [
    {
     "data": {
      "text/plain": [
       "0    60000\n",
       "dtype: int64"
      ]
     },
     "execution_count": 35,
     "metadata": {},
     "output_type": "execute_result"
    }
   ],
   "source": [
    "YrsOfExpMode = classData[\"Latest salary (per year)\"].mode()\n",
    "YrsOfExp"
   ]
  },
  {
   "cell_type": "code",
   "execution_count": 64,
   "metadata": {
    "collapsed": false
   },
   "outputs": [
    {
     "name": "stdout",
     "output_type": "stream",
     "text": [
      "Y 71\n",
      "N 29\n"
     ]
    }
   ],
   "source": [
    "coOpYN = classData[\"Coops/Internships (YN)\"]\n",
    "total = len(coOpYN)\n",
    "\n",
    "yes = 0\n",
    "no = 0\n",
    "\n",
    "for x in coOpYN:\n",
    "    if(x == \"Y\" or x== \"y\"):\n",
    "        yes = yes+1\n",
    "    elif(x == \"N\"):\n",
    "        no = no+1\n",
    "\n",
    "yPerc = round(yes/total * 100)\n",
    "nPerc = round(no/total * 100)\n",
    "    \n",
    " \n",
    "print(\"Y\", yPerc)\n",
    "print(\"N\", nPerc)\n"
   ]
  },
  {
   "cell_type": "code",
   "execution_count": 58,
   "metadata": {
    "collapsed": false
   },
   "outputs": [
    {
     "name": "stdout",
     "output_type": "stream",
     "text": [
      "People with contacts more than 500:  10\n"
     ]
    }
   ],
   "source": [
    "contacts = classData[\"Number of contacts on Linkedin\"]\n",
    "print(\"People with contacts more than 500: \", len(contacts[contacts>500]))\n"
   ]
  },
  {
   "cell_type": "code",
   "execution_count": 62,
   "metadata": {
    "collapsed": false
   },
   "outputs": [
    {
     "name": "stdout",
     "output_type": "stream",
     "text": [
      "Expected sal IQR:  10000.0\n"
     ]
    }
   ],
   "source": [
    "\n",
    "expSal = classData[\"Expected Salary after graduation\"]\n",
    "\n",
    "q3 = numpy.percentile(expSal,75)\n",
    "q1 = numpy.percentile(expSal,25)\n",
    "IQR = q3 - q1\n",
    "print(\"Expected sal IQR: \",IQR)\n"
   ]
  }
 ],
 "metadata": {
  "anaconda-cloud": {},
  "kernelspec": {
   "display_name": "Python [conda root]",
   "language": "python",
   "name": "conda-root-py"
  },
  "language_info": {
   "codemirror_mode": {
    "name": "ipython",
    "version": 3
   },
   "file_extension": ".py",
   "mimetype": "text/x-python",
   "name": "python",
   "nbconvert_exporter": "python",
   "pygments_lexer": "ipython3",
   "version": "3.5.2"
  }
 },
 "nbformat": 4,
 "nbformat_minor": 1
}
