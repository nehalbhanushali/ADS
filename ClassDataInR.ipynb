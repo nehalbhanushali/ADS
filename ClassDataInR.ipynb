{
 "cells": [
  {
   "cell_type": "code",
   "execution_count": 14,
   "metadata": {
    "collapsed": false
   },
   "outputs": [
    {
     "data": {
      "text/html": [
       "<table>\n",
       "<thead><tr><th scope=col>Feature</th><th scope=col>min</th><th scope=col>max</th><th scope=col>median</th><th scope=col>avg</th></tr></thead>\n",
       "<tbody>\n",
       "\t<tr><td>GPA     </td><td>3.06    </td><td>4       </td><td>3.5     </td><td>3.509706</td></tr>\n",
       "</tbody>\n",
       "</table>\n"
      ],
      "text/latex": [
       "\\begin{tabular}{r|lllll}\n",
       " Feature & min & max & median & avg\\\\\n",
       "\\hline\n",
       "\t GPA      & 3.06     & 4        & 3.5      & 3.509706\\\\\n",
       "\\end{tabular}\n"
      ],
      "text/markdown": [
       "\n",
       "Feature | min | max | median | avg | \n",
       "|---|\n",
       "| GPA      | 3.06     | 4        | 3.5      | 3.509706 | \n",
       "\n",
       "\n"
      ],
      "text/plain": [
       "  Feature min  max median avg     \n",
       "1 GPA     3.06 4   3.5    3.509706"
      ]
     },
     "metadata": {},
     "output_type": "display_data"
    },
    {
     "data": {
      "text/html": [
       "<table>\n",
       "<thead><tr><th scope=col>Feature</th><th scope=col>min</th><th scope=col>max</th><th scope=col>median</th><th scope=col>avg</th></tr></thead>\n",
       "<tbody>\n",
       "\t<tr><td>Work Exp</td><td>1       </td><td>6       </td><td>2.5     </td><td>2.811765</td></tr>\n",
       "</tbody>\n",
       "</table>\n"
      ],
      "text/latex": [
       "\\begin{tabular}{r|lllll}\n",
       " Feature & min & max & median & avg\\\\\n",
       "\\hline\n",
       "\t Work Exp & 1        & 6        & 2.5      & 2.811765\\\\\n",
       "\\end{tabular}\n"
      ],
      "text/markdown": [
       "\n",
       "Feature | min | max | median | avg | \n",
       "|---|\n",
       "| Work Exp | 1        | 6        | 2.5      | 2.811765 | \n",
       "\n",
       "\n"
      ],
      "text/plain": [
       "  Feature  min max median avg     \n",
       "1 Work Exp 1   6   2.5    2.811765"
      ]
     },
     "metadata": {},
     "output_type": "display_data"
    },
    {
     "data": {
      "text/html": [
       "<table>\n",
       "<thead><tr><th scope=col>Feature</th><th scope=col>mode</th></tr></thead>\n",
       "<tbody>\n",
       "\t<tr><td>Latest sal</td><td>60000     </td></tr>\n",
       "</tbody>\n",
       "</table>\n"
      ],
      "text/latex": [
       "\\begin{tabular}{r|ll}\n",
       " Feature & mode\\\\\n",
       "\\hline\n",
       "\t Latest sal & 60000     \\\\\n",
       "\\end{tabular}\n"
      ],
      "text/markdown": [
       "\n",
       "Feature | mode | \n",
       "|---|\n",
       "| Latest sal | 60000      | \n",
       "\n",
       "\n"
      ],
      "text/plain": [
       "  Feature    mode \n",
       "1 Latest sal 60000"
      ]
     },
     "metadata": {},
     "output_type": "display_data"
    },
    {
     "data": {
      "text/html": [
       "<table>\n",
       "<thead><tr><th scope=col>Feature</th><th scope=col>mode</th></tr></thead>\n",
       "<tbody>\n",
       "\t<tr><td>Expected sal</td><td>100000      </td></tr>\n",
       "</tbody>\n",
       "</table>\n"
      ],
      "text/latex": [
       "\\begin{tabular}{r|ll}\n",
       " Feature & mode\\\\\n",
       "\\hline\n",
       "\t Expected sal & 100000      \\\\\n",
       "\\end{tabular}\n"
      ],
      "text/markdown": [
       "\n",
       "Feature | mode | \n",
       "|---|\n",
       "| Expected sal | 100000       | \n",
       "\n",
       "\n"
      ],
      "text/plain": [
       "  Feature      mode  \n",
       "1 Expected sal 100000"
      ]
     },
     "metadata": {},
     "output_type": "display_data"
    },
    {
     "data": {
      "text/html": [
       "<table>\n",
       "<thead><tr><th></th><th scope=col>Count</th><th scope=col>Percentage</th></tr></thead>\n",
       "<tbody>\n",
       "\t<tr><th scope=row>N</th><td>10   </td><td>29.41</td></tr>\n",
       "\t<tr><th scope=row>Y</th><td>24   </td><td>70.59</td></tr>\n",
       "</tbody>\n",
       "</table>\n"
      ],
      "text/latex": [
       "\\begin{tabular}{r|ll}\n",
       "  & Count & Percentage\\\\\n",
       "\\hline\n",
       "\tN & 10    & 29.41\\\\\n",
       "\tY & 24    & 70.59\\\\\n",
       "\\end{tabular}\n"
      ],
      "text/markdown": [
       "\n",
       "| <!--/--> | Count | Percentage | \n",
       "|---|---|\n",
       "| N | 10    | 29.41 | \n",
       "| Y | 24    | 70.59 | \n",
       "\n",
       "\n"
      ],
      "text/plain": [
       "  Count Percentage\n",
       "N 10    29.41     \n",
       "Y 24    70.59     "
      ]
     },
     "metadata": {},
     "output_type": "display_data"
    },
    {
     "data": {
      "text/html": [
       "<table>\n",
       "<thead><tr><th scope=col>Feature</th><th scope=col>Count</th></tr></thead>\n",
       "<tbody>\n",
       "\t<tr><td>Contacts &gt; 500</td><td>10               </td></tr>\n",
       "</tbody>\n",
       "</table>\n"
      ],
      "text/latex": [
       "\\begin{tabular}{r|ll}\n",
       " Feature & Count\\\\\n",
       "\\hline\n",
       "\t Contacts > 500 & 10            \\\\\n",
       "\\end{tabular}\n"
      ],
      "text/markdown": [
       "\n",
       "Feature | Count | \n",
       "|---|\n",
       "| Contacts > 500 | 10             | \n",
       "\n",
       "\n"
      ],
      "text/plain": [
       "  Feature        Count\n",
       "1 Contacts > 500 10   "
      ]
     },
     "metadata": {},
     "output_type": "display_data"
    },
    {
     "data": {
      "text/html": [
       "<table>\n",
       "<thead><tr><th scope=col>Feature</th><th scope=col>IQR</th></tr></thead>\n",
       "<tbody>\n",
       "\t<tr><td>Expected sal range</td><td>10000             </td></tr>\n",
       "</tbody>\n",
       "</table>\n"
      ],
      "text/latex": [
       "\\begin{tabular}{r|ll}\n",
       " Feature & IQR\\\\\n",
       "\\hline\n",
       "\t Expected sal range & 10000             \\\\\n",
       "\\end{tabular}\n"
      ],
      "text/markdown": [
       "\n",
       "Feature | IQR | \n",
       "|---|\n",
       "| Expected sal range | 10000              | \n",
       "\n",
       "\n"
      ],
      "text/plain": [
       "  Feature            IQR  \n",
       "1 Expected sal range 10000"
      ]
     },
     "metadata": {},
     "output_type": "display_data"
    }
   ],
   "source": [
    "\n",
    "library(dplyr)\n",
    "\n",
    "\n",
    "# Fetch class Data\n",
    "classdata <- read.csv(\"C:\\\\Users\\\\nehal\\\\Desktop\\\\Spring\\ 2017\\\\ADS\\\\Lecture\\ 2\\\\data\\\\ClassData.csv\")\n",
    "\n",
    "#1) Min, Max, Median, Avg for GPA and YearofWorkExp\n",
    "\n",
    "GPASummary <- summarise(classdata, Feature=\"GPA\",min=min(GPA), max=max(GPA), median = median(GPA) , avg = mean(GPA))\n",
    "\n",
    "GPASummary\n",
    "\n",
    "workExSummary <- summarise(classdata, Feature=\"Work Exp\", min=min(Years.of.work.experience), max=max(Years.of.work.experience), median = median(Years.of.work.experience) , avg = mean(Years.of.work.experience))\n",
    "\n",
    "workExSummary\n",
    "\n",
    "#2) Find the mode of the Salary\n",
    "\n",
    "getmode <- function(v) {\n",
    "  uniqv <- unique(v)\n",
    "  uniqv[which.max(tabulate(match(v, uniqv)))]\n",
    "}\n",
    "\n",
    "sal <- classdata$Latest.salary..per.year.\n",
    "#getmode(sal)\n",
    "mode1Summary <- summarise(classdata, Feature=\"Latest sal\", mode = getmode(sal))\n",
    "expectedSal <- classdata$Expected.Salary.after.graduation\n",
    "#getmode(expectedSal)\n",
    "mode2Summary <- summarise(classdata, Feature=\"Expected sal\", mode = getmode(expectedSal))\n",
    "\n",
    "mode1Summary\n",
    "mode2Summary\n",
    "\n",
    "#3) % of students having Co/op and not having Co/op\n",
    "classdata <- mutate_each(classdata, funs(toupper))\n",
    "\n",
    "coOpTable <- table(classdata$Coops.Internships..YN.)\n",
    "\n",
    "\n",
    "\n",
    "res <- cbind(coOpTable,round(prop.table(coOpTable)*100,2))\n",
    "colnames(res) <- c('Count','Percentage')\n",
    "res\n",
    "           \n",
    "\n",
    "\n",
    "\n",
    "\n",
    "#4) No of students with more than 500 LinkedIn contacts\n",
    "contactsTable <- classdata$Number.of.contacts.on.Linkedin\n",
    "\n",
    "contSummary <- summarise(classdata, Feature=\"Contacts > 500\", Count = length(which(contactsTable > 500)))\n",
    "\n",
    "contSummary\n",
    "\n",
    "\n",
    "#5) Find the Inter Quartile Range for the Expected Salalry Range?\n",
    "iqrSummary <- summarise(classdata, Feature = \"Expected sal range\", IQR = IQR(classdata$Expected.Salary.after.graduation))\n",
    "\n",
    "iqrSummary\n",
    "\n",
    "\n"
   ]
  },
  {
   "cell_type": "code",
   "execution_count": null,
   "metadata": {
    "collapsed": true
   },
   "outputs": [],
   "source": []
  }
 ],
 "metadata": {
  "anaconda-cloud": {},
  "kernelspec": {
   "display_name": "R",
   "language": "R",
   "name": "ir"
  },
  "language_info": {
   "codemirror_mode": "r",
   "file_extension": ".r",
   "mimetype": "text/x-r-source",
   "name": "R",
   "pygments_lexer": "r",
   "version": "3.3.2"
  }
 },
 "nbformat": 4,
 "nbformat_minor": 1
}
